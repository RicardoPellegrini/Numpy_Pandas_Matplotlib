{
 "cells": [
  {
   "cell_type": "markdown",
   "metadata": {},
   "source": [
    "# Time Series"
   ]
  },
  {
   "cell_type": "markdown",
   "metadata": {},
   "source": [
    "### importar pandas, numpy e matplotlib"
   ]
  },
  {
   "cell_type": "code",
   "execution_count": 1,
   "metadata": {},
   "outputs": [],
   "source": [
    "import pandas as pd\n",
    "import numpy as np\n",
    "import matplotlib.pyplot as plt\n",
    "%matplotlib inline"
   ]
  },
  {
   "cell_type": "markdown",
   "metadata": {},
   "source": [
    "### datetime"
   ]
  },
  {
   "cell_type": "code",
   "execution_count": 2,
   "metadata": {},
   "outputs": [],
   "source": [
    "import datetime"
   ]
  },
  {
   "cell_type": "markdown",
   "metadata": {},
   "source": [
    "### Locale"
   ]
  },
  {
   "cell_type": "code",
   "execution_count": 31,
   "metadata": {},
   "outputs": [
    {
     "data": {
      "text/plain": [
       "'pt-BR'"
      ]
     },
     "execution_count": 31,
     "metadata": {},
     "output_type": "execute_result"
    }
   ],
   "source": [
    "import locale\n",
    "locale.setlocale(locale.LC_ALL, 'pt-BR')"
   ]
  },
  {
   "cell_type": "markdown",
   "metadata": {},
   "source": [
    "### Data e Hora atual (Now)"
   ]
  },
  {
   "cell_type": "code",
   "execution_count": 3,
   "metadata": {},
   "outputs": [
    {
     "data": {
      "text/plain": [
       "datetime.datetime(2020, 11, 27, 15, 57, 0, 635807)"
      ]
     },
     "execution_count": 3,
     "metadata": {},
     "output_type": "execute_result"
    }
   ],
   "source": [
    "datetime.datetime.now()"
   ]
  },
  {
   "cell_type": "code",
   "execution_count": 4,
   "metadata": {},
   "outputs": [
    {
     "name": "stdout",
     "output_type": "stream",
     "text": [
      "2020-11-27 15:57:00.763600\n"
     ]
    }
   ],
   "source": [
    "print(datetime.datetime.now())"
   ]
  },
  {
   "cell_type": "markdown",
   "metadata": {},
   "source": [
    "### Diferença de tempo (Timedelta)"
   ]
  },
  {
   "cell_type": "code",
   "execution_count": 5,
   "metadata": {},
   "outputs": [],
   "source": [
    "antes = datetime.datetime.now()"
   ]
  },
  {
   "cell_type": "code",
   "execution_count": 6,
   "metadata": {},
   "outputs": [],
   "source": [
    "depois = datetime.datetime.now()"
   ]
  },
  {
   "cell_type": "code",
   "execution_count": 7,
   "metadata": {},
   "outputs": [],
   "source": [
    "diferenca = depois - antes"
   ]
  },
  {
   "cell_type": "code",
   "execution_count": 8,
   "metadata": {},
   "outputs": [
    {
     "name": "stdout",
     "output_type": "stream",
     "text": [
      "0:00:00.098574\n"
     ]
    }
   ],
   "source": [
    "print(diferenca)"
   ]
  },
  {
   "cell_type": "code",
   "execution_count": 9,
   "metadata": {},
   "outputs": [
    {
     "data": {
      "text/plain": [
       "0"
      ]
     },
     "execution_count": 9,
     "metadata": {},
     "output_type": "execute_result"
    }
   ],
   "source": [
    "diferenca.seconds"
   ]
  },
  {
   "cell_type": "code",
   "execution_count": 10,
   "metadata": {},
   "outputs": [
    {
     "data": {
      "text/plain": [
       "98574"
      ]
     },
     "execution_count": 10,
     "metadata": {},
     "output_type": "execute_result"
    }
   ],
   "source": [
    "diferenca.microseconds"
   ]
  },
  {
   "cell_type": "code",
   "execution_count": 11,
   "metadata": {},
   "outputs": [
    {
     "data": {
      "text/plain": [
       "datetime.timedelta(0, 10)"
      ]
     },
     "execution_count": 11,
     "metadata": {},
     "output_type": "execute_result"
    }
   ],
   "source": [
    "datetime.timedelta(seconds=10)"
   ]
  },
  {
   "cell_type": "markdown",
   "metadata": {},
   "source": [
    "### String Para Data Hora (Strptime)"
   ]
  },
  {
   "cell_type": "code",
   "execution_count": 12,
   "metadata": {},
   "outputs": [
    {
     "data": {
      "text/plain": [
       "'09/17/20 13:26:35'"
      ]
     },
     "execution_count": 12,
     "metadata": {},
     "output_type": "execute_result"
    }
   ],
   "source": [
    "str_data_hora = '09/17/20 13:26:35'\n",
    "str_data_hora"
   ]
  },
  {
   "cell_type": "code",
   "execution_count": 13,
   "metadata": {},
   "outputs": [
    {
     "data": {
      "text/plain": [
       "datetime.datetime(2020, 9, 17, 13, 26, 35)"
      ]
     },
     "execution_count": 13,
     "metadata": {},
     "output_type": "execute_result"
    }
   ],
   "source": [
    "convertida = datetime.datetime.strptime(str_data_hora, '%m/%d/%y %H:%M:%S')\n",
    "convertida"
   ]
  },
  {
   "cell_type": "code",
   "execution_count": 14,
   "metadata": {},
   "outputs": [
    {
     "name": "stdout",
     "output_type": "stream",
     "text": [
      "2020-09-17 13:26:35\n"
     ]
    }
   ],
   "source": [
    "print(convertida)"
   ]
  },
  {
   "cell_type": "markdown",
   "metadata": {},
   "source": [
    "### String para Data"
   ]
  },
  {
   "cell_type": "code",
   "execution_count": 18,
   "metadata": {},
   "outputs": [],
   "source": [
    "str_data = '17-09-2020'"
   ]
  },
  {
   "cell_type": "code",
   "execution_count": 20,
   "metadata": {},
   "outputs": [
    {
     "data": {
      "text/plain": [
       "datetime.date(2020, 9, 17)"
      ]
     },
     "execution_count": 20,
     "metadata": {},
     "output_type": "execute_result"
    }
   ],
   "source": [
    "data = datetime.datetime.strptime(str_data, '%d-%m-%Y').date()\n",
    "data"
   ]
  },
  {
   "cell_type": "markdown",
   "metadata": {},
   "source": [
    "### Conversão de String para Tempo (Strptime)"
   ]
  },
  {
   "cell_type": "code",
   "execution_count": 21,
   "metadata": {},
   "outputs": [],
   "source": [
    "str_tempo = '14:45:38'"
   ]
  },
  {
   "cell_type": "code",
   "execution_count": 22,
   "metadata": {},
   "outputs": [
    {
     "data": {
      "text/plain": [
       "datetime.time(14, 45, 38)"
      ]
     },
     "execution_count": 22,
     "metadata": {},
     "output_type": "execute_result"
    }
   ],
   "source": [
    "tempo = datetime.datetime.strptime(str_tempo, '%H:%M:%S').time()\n",
    "tempo"
   ]
  },
  {
   "cell_type": "markdown",
   "metadata": {},
   "source": [
    "### Períodos de Tempo (Freq)"
   ]
  },
  {
   "cell_type": "code",
   "execution_count": 23,
   "metadata": {},
   "outputs": [],
   "source": [
    "start = '01/01/2020'\n",
    "end = '31/12/2020'"
   ]
  },
  {
   "cell_type": "code",
   "execution_count": 26,
   "metadata": {},
   "outputs": [
    {
     "data": {
      "text/plain": [
       "DatetimeIndex(['2020-01-01', '2020-02-01', '2020-03-01', '2020-04-01',\n",
       "               '2020-05-01', '2020-06-01', '2020-07-01', '2020-08-01',\n",
       "               '2020-09-01', '2020-10-01', '2020-11-01', '2020-12-01'],\n",
       "              dtype='datetime64[ns]', freq='MS')"
      ]
     },
     "execution_count": 26,
     "metadata": {},
     "output_type": "execute_result"
    }
   ],
   "source": [
    "x = pd.date_range(start, end, freq='MS')\n",
    "x"
   ]
  },
  {
   "cell_type": "code",
   "execution_count": 28,
   "metadata": {},
   "outputs": [
    {
     "data": {
      "text/plain": [
       "DatetimeIndex(['2020-01-01', '2020-02-01', '2020-03-01', '2020-04-01',\n",
       "               '2020-05-01', '2020-06-01', '2020-07-01', '2020-08-01',\n",
       "               '2020-09-01', '2020-10-01', '2020-11-01', '2020-12-01'],\n",
       "              dtype='datetime64[ns]', freq='MS')"
      ]
     },
     "execution_count": 28,
     "metadata": {},
     "output_type": "execute_result"
    }
   ],
   "source": [
    "y = pd.date_range(start, end, freq='MS')\n",
    "y"
   ]
  },
  {
   "cell_type": "code",
   "execution_count": 32,
   "metadata": {},
   "outputs": [
    {
     "data": {
      "text/plain": [
       "Index(['01-jan-20 é uma quarta-feira', '01-fev-20 é uma sábado',\n",
       "       '01-mar-20 é uma domingo', '01-abr-20 é uma quarta-feira',\n",
       "       '01-mai-20 é uma sexta-feira', '01-jun-20 é uma segunda-feira',\n",
       "       '01-jul-20 é uma quarta-feira', '01-ago-20 é uma sábado',\n",
       "       '01-set-20 é uma terça-feira', '01-out-20 é uma quinta-feira',\n",
       "       '01-nov-20 é uma domingo', '01-dez-20 é uma terça-feira'],\n",
       "      dtype='object')"
      ]
     },
     "execution_count": 32,
     "metadata": {},
     "output_type": "execute_result"
    }
   ],
   "source": [
    "y.strftime('%d-%b-%y é uma %A')"
   ]
  },
  {
   "cell_type": "markdown",
   "metadata": {},
   "source": [
    "### Plot"
   ]
  },
  {
   "cell_type": "code",
   "execution_count": 33,
   "metadata": {},
   "outputs": [
    {
     "data": {
      "text/plain": [
       "array([10.28382206,  8.94295298, 10.42443738, 10.49946943,  7.51446047,\n",
       "       10.81474428, 11.48367211, 10.67392341, 10.53021551, 12.03810963,\n",
       "        9.0590397 ,  9.17528303])"
      ]
     },
     "execution_count": 33,
     "metadata": {},
     "output_type": "execute_result"
    }
   ],
   "source": [
    "y = np.random.normal(10, 1, 12)\n",
    "y"
   ]
  },
  {
   "cell_type": "code",
   "execution_count": 39,
   "metadata": {
    "scrolled": true
   },
   "outputs": [
    {
     "data": {
      "image/png": "[encoded data removed]",
      "text/plain": [
       "<Figure size 600x400 with 1 Axes>"
      ]
     },
     "metadata": {},
     "output_type": "display_data"
    }
   ],
   "source": [
    "x = pd.date_range(start, end, freq='MS').strftime('%b/%y')\n",
    "\n",
    "f, ax = plt.subplots(dpi=100)\n",
    "f.autofmt_xdate()\n",
    "ax.plot(x,y)\n",
    "plt.show()"
   ]
  },
  {
   "cell_type": "markdown",
   "metadata": {},
   "source": [
    "### DataFrame"
   ]
  },
  {
   "cell_type": "code",
   "execution_count": 41,
   "metadata": {},
   "outputs": [
    {
     "data": {
      "text/html": [
       "<div>\n",
       "<style scoped>\n",
       "    .dataframe tbody tr th:only-of-type {\n",
       "        vertical-align: middle;\n",
       "    }\n",
       "\n",
       "    .dataframe tbody tr th {\n",
       "        vertical-align: top;\n",
       "    }\n",
       "\n",
       "    .dataframe thead th {\n",
       "        text-align: right;\n",
       "    }\n",
       "</style>\n",
       "<table border=\"1\" class=\"dataframe\">\n",
       "  <thead>\n",
       "    <tr style=\"text-align: right;\">\n",
       "      <th></th>\n",
       "      <th>Datas</th>\n",
       "      <th>Valores</th>\n",
       "    </tr>\n",
       "  </thead>\n",
       "  <tbody>\n",
       "    <tr>\n",
       "      <th>0</th>\n",
       "      <td>2020-01-01</td>\n",
       "      <td>10.283822</td>\n",
       "    </tr>\n",
       "    <tr>\n",
       "      <th>1</th>\n",
       "      <td>2020-02-01</td>\n",
       "      <td>8.942953</td>\n",
       "    </tr>\n",
       "    <tr>\n",
       "      <th>2</th>\n",
       "      <td>2020-03-01</td>\n",
       "      <td>10.424437</td>\n",
       "    </tr>\n",
       "    <tr>\n",
       "      <th>3</th>\n",
       "      <td>2020-04-01</td>\n",
       "      <td>10.499469</td>\n",
       "    </tr>\n",
       "    <tr>\n",
       "      <th>4</th>\n",
       "      <td>2020-05-01</td>\n",
       "      <td>7.514460</td>\n",
       "    </tr>\n",
       "    <tr>\n",
       "      <th>5</th>\n",
       "      <td>2020-06-01</td>\n",
       "      <td>10.814744</td>\n",
       "    </tr>\n",
       "    <tr>\n",
       "      <th>6</th>\n",
       "      <td>2020-07-01</td>\n",
       "      <td>11.483672</td>\n",
       "    </tr>\n",
       "    <tr>\n",
       "      <th>7</th>\n",
       "      <td>2020-08-01</td>\n",
       "      <td>10.673923</td>\n",
       "    </tr>\n",
       "    <tr>\n",
       "      <th>8</th>\n",
       "      <td>2020-09-01</td>\n",
       "      <td>10.530216</td>\n",
       "    </tr>\n",
       "    <tr>\n",
       "      <th>9</th>\n",
       "      <td>2020-10-01</td>\n",
       "      <td>12.038110</td>\n",
       "    </tr>\n",
       "    <tr>\n",
       "      <th>10</th>\n",
       "      <td>2020-11-01</td>\n",
       "      <td>9.059040</td>\n",
       "    </tr>\n",
       "    <tr>\n",
       "      <th>11</th>\n",
       "      <td>2020-12-01</td>\n",
       "      <td>9.175283</td>\n",
       "    </tr>\n",
       "  </tbody>\n",
       "</table>\n",
       "</div>"
      ],
      "text/plain": [
       "        Datas    Valores\n",
       "0  2020-01-01  10.283822\n",
       "1  2020-02-01   8.942953\n",
       "2  2020-03-01  10.424437\n",
       "3  2020-04-01  10.499469\n",
       "4  2020-05-01   7.514460\n",
       "5  2020-06-01  10.814744\n",
       "6  2020-07-01  11.483672\n",
       "7  2020-08-01  10.673923\n",
       "8  2020-09-01  10.530216\n",
       "9  2020-10-01  12.038110\n",
       "10 2020-11-01   9.059040\n",
       "11 2020-12-01   9.175283"
      ]
     },
     "execution_count": 41,
     "metadata": {},
     "output_type": "execute_result"
    }
   ],
   "source": [
    "x = pd.date_range(start, end, freq='MS')\n",
    "data = pd.DataFrame({'Datas': x, 'Valores': y})\n",
    "data"
   ]
  },
  {
   "cell_type": "markdown",
   "metadata": {},
   "source": [
    "### Index de Datas (DatetimeIndex)"
   ]
  },
  {
   "cell_type": "code",
   "execution_count": 42,
   "metadata": {},
   "outputs": [
    {
     "data": {
      "text/plain": [
       "RangeIndex(start=0, stop=12, step=1)"
      ]
     },
     "execution_count": 42,
     "metadata": {},
     "output_type": "execute_result"
    }
   ],
   "source": [
    "data.index"
   ]
  },
  {
   "cell_type": "code",
   "execution_count": 44,
   "metadata": {},
   "outputs": [
    {
     "name": "stdout",
     "output_type": "stream",
     "text": [
      "<class 'pandas.core.frame.DataFrame'>\n",
      "RangeIndex: 12 entries, 0 to 11\n",
      "Data columns (total 2 columns):\n",
      "Datas      12 non-null datetime64[ns]\n",
      "Valores    12 non-null float64\n",
      "dtypes: datetime64[ns](1), float64(1)\n",
      "memory usage: 272.0 bytes\n"
     ]
    }
   ],
   "source": [
    "data.info()"
   ]
  },
  {
   "cell_type": "code",
   "execution_count": 45,
   "metadata": {},
   "outputs": [
    {
     "data": {
      "text/plain": [
       "array(['2020-01-01T00:00:00.000000000', '2020-02-01T00:00:00.000000000',\n",
       "       '2020-03-01T00:00:00.000000000', '2020-04-01T00:00:00.000000000',\n",
       "       '2020-05-01T00:00:00.000000000', '2020-06-01T00:00:00.000000000',\n",
       "       '2020-07-01T00:00:00.000000000', '2020-08-01T00:00:00.000000000',\n",
       "       '2020-09-01T00:00:00.000000000', '2020-10-01T00:00:00.000000000',\n",
       "       '2020-11-01T00:00:00.000000000', '2020-12-01T00:00:00.000000000'],\n",
       "      dtype='datetime64[ns]')"
      ]
     },
     "execution_count": 45,
     "metadata": {},
     "output_type": "execute_result"
    }
   ],
   "source": [
    "data['Datas'].values"
   ]
  },
  {
   "cell_type": "code",
   "execution_count": 46,
   "metadata": {},
   "outputs": [],
   "source": [
    "data['Datas'] = ['2020-01-01T00:00:00.000000000', '2020-02-01T00:00:00.000000000',\n",
    "       '2020-03-01T00:00:00.000000000', '2020-04-01T00:00:00.000000000',\n",
    "       '2020-05-01T00:00:00.000000000', '2020-06-01T00:00:00.000000000',\n",
    "       '2020-07-01T00:00:00.000000000', '2020-08-01T00:00:00.000000000',\n",
    "       '2020-09-01T00:00:00.000000000', '2020-10-01T00:00:00.000000000',\n",
    "       '2020-11-01T00:00:00.000000000', '2020-12-01T00:00:00.000000000']"
   ]
  },
  {
   "cell_type": "code",
   "execution_count": 48,
   "metadata": {},
   "outputs": [
    {
     "name": "stdout",
     "output_type": "stream",
     "text": [
      "<class 'pandas.core.frame.DataFrame'>\n",
      "RangeIndex: 12 entries, 0 to 11\n",
      "Data columns (total 2 columns):\n",
      "Datas      12 non-null object\n",
      "Valores    12 non-null float64\n",
      "dtypes: float64(1), object(1)\n",
      "memory usage: 272.0+ bytes\n"
     ]
    }
   ],
   "source": [
    "data.info()"
   ]
  },
  {
   "cell_type": "code",
   "execution_count": 50,
   "metadata": {},
   "outputs": [
    {
     "data": {
      "text/html": [
       "<div>\n",
       "<style scoped>\n",
       "    .dataframe tbody tr th:only-of-type {\n",
       "        vertical-align: middle;\n",
       "    }\n",
       "\n",
       "    .dataframe tbody tr th {\n",
       "        vertical-align: top;\n",
       "    }\n",
       "\n",
       "    .dataframe thead th {\n",
       "        text-align: right;\n",
       "    }\n",
       "</style>\n",
       "<table border=\"1\" class=\"dataframe\">\n",
       "  <thead>\n",
       "    <tr style=\"text-align: right;\">\n",
       "      <th></th>\n",
       "      <th>Datas</th>\n",
       "      <th>Valores</th>\n",
       "    </tr>\n",
       "  </thead>\n",
       "  <tbody>\n",
       "    <tr>\n",
       "      <th>0</th>\n",
       "      <td>2020-01-01</td>\n",
       "      <td>10.283822</td>\n",
       "    </tr>\n",
       "    <tr>\n",
       "      <th>1</th>\n",
       "      <td>2020-02-01</td>\n",
       "      <td>8.942953</td>\n",
       "    </tr>\n",
       "    <tr>\n",
       "      <th>2</th>\n",
       "      <td>2020-03-01</td>\n",
       "      <td>10.424437</td>\n",
       "    </tr>\n",
       "    <tr>\n",
       "      <th>3</th>\n",
       "      <td>2020-04-01</td>\n",
       "      <td>10.499469</td>\n",
       "    </tr>\n",
       "    <tr>\n",
       "      <th>4</th>\n",
       "      <td>2020-05-01</td>\n",
       "      <td>7.514460</td>\n",
       "    </tr>\n",
       "    <tr>\n",
       "      <th>5</th>\n",
       "      <td>2020-06-01</td>\n",
       "      <td>10.814744</td>\n",
       "    </tr>\n",
       "    <tr>\n",
       "      <th>6</th>\n",
       "      <td>2020-07-01</td>\n",
       "      <td>11.483672</td>\n",
       "    </tr>\n",
       "    <tr>\n",
       "      <th>7</th>\n",
       "      <td>2020-08-01</td>\n",
       "      <td>10.673923</td>\n",
       "    </tr>\n",
       "    <tr>\n",
       "      <th>8</th>\n",
       "      <td>2020-09-01</td>\n",
       "      <td>10.530216</td>\n",
       "    </tr>\n",
       "    <tr>\n",
       "      <th>9</th>\n",
       "      <td>2020-10-01</td>\n",
       "      <td>12.038110</td>\n",
       "    </tr>\n",
       "    <tr>\n",
       "      <th>10</th>\n",
       "      <td>2020-11-01</td>\n",
       "      <td>9.059040</td>\n",
       "    </tr>\n",
       "    <tr>\n",
       "      <th>11</th>\n",
       "      <td>2020-12-01</td>\n",
       "      <td>9.175283</td>\n",
       "    </tr>\n",
       "  </tbody>\n",
       "</table>\n",
       "</div>"
      ],
      "text/plain": [
       "        Datas    Valores\n",
       "0  2020-01-01  10.283822\n",
       "1  2020-02-01   8.942953\n",
       "2  2020-03-01  10.424437\n",
       "3  2020-04-01  10.499469\n",
       "4  2020-05-01   7.514460\n",
       "5  2020-06-01  10.814744\n",
       "6  2020-07-01  11.483672\n",
       "7  2020-08-01  10.673923\n",
       "8  2020-09-01  10.530216\n",
       "9  2020-10-01  12.038110\n",
       "10 2020-11-01   9.059040\n",
       "11 2020-12-01   9.175283"
      ]
     },
     "execution_count": 50,
     "metadata": {},
     "output_type": "execute_result"
    }
   ],
   "source": [
    "data['Datas'] = pd.DatetimeIndex(data['Datas'])\n",
    "data"
   ]
  },
  {
   "cell_type": "code",
   "execution_count": 51,
   "metadata": {},
   "outputs": [],
   "source": [
    "data.set_index('Datas', inplace=True)"
   ]
  },
  {
   "cell_type": "code",
   "execution_count": 52,
   "metadata": {},
   "outputs": [
    {
     "data": {
      "text/html": [
       "<div>\n",
       "<style scoped>\n",
       "    .dataframe tbody tr th:only-of-type {\n",
       "        vertical-align: middle;\n",
       "    }\n",
       "\n",
       "    .dataframe tbody tr th {\n",
       "        vertical-align: top;\n",
       "    }\n",
       "\n",
       "    .dataframe thead th {\n",
       "        text-align: right;\n",
       "    }\n",
       "</style>\n",
       "<table border=\"1\" class=\"dataframe\">\n",
       "  <thead>\n",
       "    <tr style=\"text-align: right;\">\n",
       "      <th></th>\n",
       "      <th>Valores</th>\n",
       "    </tr>\n",
       "    <tr>\n",
       "      <th>Datas</th>\n",
       "      <th></th>\n",
       "    </tr>\n",
       "  </thead>\n",
       "  <tbody>\n",
       "    <tr>\n",
       "      <th>2020-01-01</th>\n",
       "      <td>10.283822</td>\n",
       "    </tr>\n",
       "    <tr>\n",
       "      <th>2020-02-01</th>\n",
       "      <td>8.942953</td>\n",
       "    </tr>\n",
       "    <tr>\n",
       "      <th>2020-03-01</th>\n",
       "      <td>10.424437</td>\n",
       "    </tr>\n",
       "    <tr>\n",
       "      <th>2020-04-01</th>\n",
       "      <td>10.499469</td>\n",
       "    </tr>\n",
       "    <tr>\n",
       "      <th>2020-05-01</th>\n",
       "      <td>7.514460</td>\n",
       "    </tr>\n",
       "    <tr>\n",
       "      <th>2020-06-01</th>\n",
       "      <td>10.814744</td>\n",
       "    </tr>\n",
       "    <tr>\n",
       "      <th>2020-07-01</th>\n",
       "      <td>11.483672</td>\n",
       "    </tr>\n",
       "    <tr>\n",
       "      <th>2020-08-01</th>\n",
       "      <td>10.673923</td>\n",
       "    </tr>\n",
       "    <tr>\n",
       "      <th>2020-09-01</th>\n",
       "      <td>10.530216</td>\n",
       "    </tr>\n",
       "    <tr>\n",
       "      <th>2020-10-01</th>\n",
       "      <td>12.038110</td>\n",
       "    </tr>\n",
       "    <tr>\n",
       "      <th>2020-11-01</th>\n",
       "      <td>9.059040</td>\n",
       "    </tr>\n",
       "    <tr>\n",
       "      <th>2020-12-01</th>\n",
       "      <td>9.175283</td>\n",
       "    </tr>\n",
       "  </tbody>\n",
       "</table>\n",
       "</div>"
      ],
      "text/plain": [
       "              Valores\n",
       "Datas                \n",
       "2020-01-01  10.283822\n",
       "2020-02-01   8.942953\n",
       "2020-03-01  10.424437\n",
       "2020-04-01  10.499469\n",
       "2020-05-01   7.514460\n",
       "2020-06-01  10.814744\n",
       "2020-07-01  11.483672\n",
       "2020-08-01  10.673923\n",
       "2020-09-01  10.530216\n",
       "2020-10-01  12.038110\n",
       "2020-11-01   9.059040\n",
       "2020-12-01   9.175283"
      ]
     },
     "execution_count": 52,
     "metadata": {},
     "output_type": "execute_result"
    }
   ],
   "source": [
    "data"
   ]
  },
  {
   "cell_type": "code",
   "execution_count": 53,
   "metadata": {},
   "outputs": [
    {
     "data": {
      "text/html": [
       "<div>\n",
       "<style scoped>\n",
       "    .dataframe tbody tr th:only-of-type {\n",
       "        vertical-align: middle;\n",
       "    }\n",
       "\n",
       "    .dataframe tbody tr th {\n",
       "        vertical-align: top;\n",
       "    }\n",
       "\n",
       "    .dataframe thead th {\n",
       "        text-align: right;\n",
       "    }\n",
       "</style>\n",
       "<table border=\"1\" class=\"dataframe\">\n",
       "  <thead>\n",
       "    <tr style=\"text-align: right;\">\n",
       "      <th></th>\n",
       "      <th>Valores</th>\n",
       "      <th>Data String</th>\n",
       "    </tr>\n",
       "    <tr>\n",
       "      <th>Datas</th>\n",
       "      <th></th>\n",
       "      <th></th>\n",
       "    </tr>\n",
       "  </thead>\n",
       "  <tbody>\n",
       "    <tr>\n",
       "      <th>2020-01-01</th>\n",
       "      <td>10.283822</td>\n",
       "      <td>01/jan/20</td>\n",
       "    </tr>\n",
       "    <tr>\n",
       "      <th>2020-02-01</th>\n",
       "      <td>8.942953</td>\n",
       "      <td>01/fev/20</td>\n",
       "    </tr>\n",
       "    <tr>\n",
       "      <th>2020-03-01</th>\n",
       "      <td>10.424437</td>\n",
       "      <td>01/mar/20</td>\n",
       "    </tr>\n",
       "    <tr>\n",
       "      <th>2020-04-01</th>\n",
       "      <td>10.499469</td>\n",
       "      <td>01/abr/20</td>\n",
       "    </tr>\n",
       "    <tr>\n",
       "      <th>2020-05-01</th>\n",
       "      <td>7.514460</td>\n",
       "      <td>01/mai/20</td>\n",
       "    </tr>\n",
       "  </tbody>\n",
       "</table>\n",
       "</div>"
      ],
      "text/plain": [
       "              Valores Data String\n",
       "Datas                            \n",
       "2020-01-01  10.283822   01/jan/20\n",
       "2020-02-01   8.942953   01/fev/20\n",
       "2020-03-01  10.424437   01/mar/20\n",
       "2020-04-01  10.499469   01/abr/20\n",
       "2020-05-01   7.514460   01/mai/20"
      ]
     },
     "execution_count": 53,
     "metadata": {},
     "output_type": "execute_result"
    }
   ],
   "source": [
    "data['Data String'] = data.index.strftime('%d/%b/%y')\n",
    "data.head()"
   ]
  },
  {
   "cell_type": "code",
   "execution_count": 56,
   "metadata": {},
   "outputs": [],
   "source": [
    "# data['Data String'] = pd.to_datetime(data['Data String'], format='%d/%b/%y')"
   ]
  },
  {
   "cell_type": "markdown",
   "metadata": {},
   "source": [
    "<center><h1> <a href=\"http://strftime.org/\">String Para Tempo (Strftime)</a></h1>\n",
    "<br>Nota: Exemplos baseados em datetime.datetime(2013, 9, 30, 7, 6, 5)</center>\n",
    "\n",
    "<div>\n",
    "<table cellpadding = \"0\" cellpacing = \"0\" border = \"0\">\n",
    "        <colgroup>\n",
    "          <col id = \"diretiva\">\n",
    "          <col id = \"meaning\">\n",
    "          <col id = \"example\">\n",
    "        </colgroup>\n",
    "        <thead>\n",
    "          <tr>\n",
    "            <th> Código </th>\n",
    "            <th> Significado </th>\n",
    "            <th> Exemplo </th>\n",
    "          </tr>\n",
    "        </thead>\n",
    "        <tbody>\n",
    "            <tr>\n",
    "              <td><code>%a</code> </td>\n",
    "              <td> Dia da semana como nome abreviado da localidade. </td>\n",
    "              <td><code> Seg</code> </td>\n",
    "            </tr>\n",
    "            <tr>\n",
    "              <td><code>%A</code> </td>\n",
    "              <td> Dia da semana como o nome completo da localidade. </td>\n",
    "              <td><code> Segunda-feira</code> </td>\n",
    "            </tr>\n",
    "            <tr>\n",
    "              <td><code>%w</code> </td>\n",
    "              <td> Dia da semana como um número decimal, onde 0 é domingo e 6 é sábado. </td>\n",
    "              <td><code>1</code> </td>\n",
    "            </tr>\n",
    "            <tr>\n",
    "              <td><code>%d</code> </td>\n",
    "              <td> Dia do mês como um número decimal preenchido com zero. </td>\n",
    "              <td><code>30</code> </td>\n",
    "            </tr>\n",
    "            <tr>\n",
    "              <td><code>%-d</code> </td>\n",
    "              <td> Dia do mês como um número decimal. (Específico da plataforma) </td>\n",
    "              <td><code>30</code> </td>\n",
    "            </tr>\n",
    "            <tr>\n",
    "              <td><code>%b</code> </td>\n",
    "              <td> Mês como nome abreviado da localidade. </td>\n",
    "              <td><code> Set </code></td>\n",
    "            </tr>\n",
    "            <tr>\n",
    "              <td><code>%B</code> </td>\n",
    "              <td> Mês como nome completo do código do idioma. </td>\n",
    "              <td><code> Setembro</code> </td>\n",
    "            </tr>\n",
    "            <tr>\n",
    "              <td><code>%m</code> </td>\n",
    "              <td> Mês como um número decimal preenchido com zero. </td>\n",
    "              <td><code>09</code> </td>\n",
    "            </tr>\n",
    "            <tr>\n",
    "              <td><code>%-m</code> </td>\n",
    "              <td> Mês como um número decimal. (Específico da plataforma) </td>\n",
    "              <td><code>9</code> </td>\n",
    "            </tr>\n",
    "            <tr>\n",
    "              <td><code>%y</code> </td>\n",
    "              <td> Ano sem século como um número decimal preenchido com zero. </td>\n",
    "              <td><code>13</code> </td>\n",
    "            </tr>\n",
    "            <tr>\n",
    "              <td><code>%Y</code> </td>\n",
    "              <td> Ano com o século como um número decimal. </td>\n",
    "              <td><code>2013</code> </td>\n",
    "            </tr>\n",
    "            <tr>\n",
    "              <td><code>%H</code> </td>\n",
    "              <td> Hora (relógio de 24 horas) como um número decimal preenchido com zero. </td>\n",
    "              <td><code>07</code> </td>\n",
    "            </tr>\n",
    "            <tr>\n",
    "              <td><code>%-H</code> </td>\n",
    "              <td> Hora (relógio de 24 horas) como um número decimal. (Específico da plataforma) </td>\n",
    "              <td><code>7</code> </td>\n",
    "            </tr>\n",
    "            <tr>\n",
    "              <td><code>%I</code> </td>\n",
    "              <td> Hora (relógio de 12 horas) como um número decimal preenchido com zero. </td>\n",
    "              <td><code>07</code> </td>\n",
    "            </tr>\n",
    "            <tr>\n",
    "              <td><code>%-I</code> </td>\n",
    "              <td> Hora (relógio de 12 horas) como um número decimal. (Específico da plataforma) </td>\n",
    "              <td><code>7</code> </td>\n",
    "            </tr>\n",
    "            <tr>\n",
    "              <td><code>%p</code> </td>\n",
    "              <td> O equivalente da localidade de AM ou PM. </td>\n",
    "              <td><code>AM</code> </td>\n",
    "            </tr>\n",
    "            <tr>\n",
    "              <td><code>%M</code> </td>\n",
    "              <td> Minuto como um número decimal preenchido com zero. </td>\n",
    "              <td><code>06</code> </td>\n",
    "            </tr>\n",
    "            <tr>\n",
    "              <td><code>%-M</code> </td>\n",
    "              <td> Minuto como um número decimal. (Específico da plataforma) </td>\n",
    "              <td><code>6</code> </td>\n",
    "            </tr>\n",
    "            <tr>\n",
    "              <td><code>%S</code> </td>\n",
    "              <td> Segundo como um número decimal preenchido com zero. </td>\n",
    "              <td><code>05</code> </td>\n",
    "            </tr>\n",
    "            <tr>\n",
    "              <td><code>%-S</code> </td>\n",
    "              <td> Segundo como um número decimal. (Específico da plataforma) </td>\n",
    "              <td><code>5</code> </td>\n",
    "            </tr>\n",
    "            <tr>\n",
    "              <td><code>%f</code> </td>\n",
    "              <td> Microssegundo como um número decimal, preenchido com zero à esquerda. </td>\n",
    "              <td><code>000000</code> </td>\n",
    "            </tr>\n",
    "            <tr>\n",
    "              <td><code>%z</code> </td>\n",
    "              <td> Deslocamento UTC no formato + HHMM ou -HHMM (string vazia se o objeto for ingênuo). </td>\n",
    "              <td><code></code> </td>\n",
    "            </tr>\n",
    "            <tr>\n",
    "              <td><code>%Z</code> </td>\n",
    "              <td> Nome do fuso horário (string vazia se o objeto for ingênuo). </td>\n",
    "              <td><code></code> </td>\n",
    "            </tr>\n",
    "            <tr>\n",
    "              <td><code>%j</code> </td>\n",
    "              <td> Dia do ano como um número decimal preenchido com zero. </td>\n",
    "              <td><code>273</code> </td>\n",
    "            </tr>\n",
    "            <tr>\n",
    "              <td><code>%-j</code> </td>\n",
    "              <td> Dia do ano como um número decimal. (Específico da plataforma) </td>\n",
    "              <td><code>273</code> </td>\n",
    "            </ tr>\n",
    "            <tr>\n",
    "              <td><code>%U</code> </td>\n",
    "              <td> Número da semana do ano (domingo como o primeiro dia da semana) como um número decimal preenchido com zero. Todos os dias em um novo ano anterior ao primeiro domingo são considerados na semana 0. </td>\n",
    "              <td><code>39</code> </td>\n",
    "            </tr>\n",
    "            <tr>\n",
    "              <td><code>%W</code> </td>\n",
    "              <td> Número da semana do ano (segunda-feira como o primeiro dia da semana) como um número decimal. Todos os dias do ano novo anterior à primeira segunda-feira são considerados na semana 0. </td>\n",
    "              <td><code>39</code> </td>\n",
    "            </tr>\n",
    "            <tr>\n",
    "              <td><code>%c</code> </td>\n",
    "              <td> Representação apropriada de data e hora da localidade. </td>\n",
    "              <td> <code> Seg 30 set 07:06:05 2013 </code> </td>\n",
    "            </tr>\n",
    "            <tr>\n",
    "              <td><code>%x</code> </td>\n",
    "              <td> Representação de data apropriada da localidade. </td>\n",
    "              <td><code>09/30/13</code> </td>\n",
    "            </tr>\n",
    "            <tr>\n",
    "              <td><code>%X</code> </td>\n",
    "              <td> Representação de tempo apropriada da localidade. </td>\n",
    "              <td><code>07:06:05</code> </td>\n",
    "            </tr>\n",
    "            <tr>\n",
    "              <td><code>%%</code> </td>\n",
    "              <td> Um caractere literal '%'. </td>\n",
    "              <td><code>%</code> </td>\n",
    "            </tr>\n",
    "        </tbody>\n",
    "      </table>\n",
    "</div>\n"
   ]
  },
  {
   "cell_type": "markdown",
   "metadata": {},
   "source": [
    "\n"
   ]
  },
  {
   "cell_type": "markdown",
   "metadata": {},
   "source": [
    "\n"
   ]
  },
  {
   "cell_type": "markdown",
   "metadata": {},
   "source": [
    "\n"
   ]
  },
  {
   "cell_type": "markdown",
   "metadata": {},
   "source": [
    "<center><h1> <a href=\"https://pandas.pydata.org/pandas-docs/stable/user_guide/timeseries.html#timeseries-offset-aliases\">String Para Períodos (Freq)</a></h1></center>\n",
    "\n",
    "<table border = \"1\" class = \"documentos fornecidos pelas larguras\">\n",
    "<colgroup>\n",
    "<largura da coluna = \"13%\" />\n",
    "<largura da coluna = \"87%\" />\n",
    "</colgroup>\n",
    "<thead valign = \"bottom\">\n",
    "<tr class = \"row-odd\"> <th class = \"head\"> Alias ​​</th>\n",
    "<th class = \"head\"> Descrição </th>\n",
    "</tr>\n",
    "</thead>\n",
    "<tbody valign = \"top\">\n",
    "<tr class = \"row-even\"> <td> B </td>\n",
    "<td> frequência de dias úteis </td>\n",
    "</tr>\n",
    "<tr class = \"row-odd\"> <td> C </td>\n",
    "<td> frequência de dias úteis personalizados </td>\n",
    "</tr>\n",
    "<tr class = \"row-even\"> <td> D </td>\n",
    "<td> frequência do dia do calendário </td>\n",
    "</tr>\n",
    "<tr class = \"row-odd\"> <td> W </td>\n",
    "<td> frequência semanal </td>\n",
    "</tr>\n",
    "<tr class = \"row-even\"> <td> M </td>\n",
    "<td> frequência de final do mês </td>\n",
    "</tr>\n",
    "<tr class = \"row-odd\"> <td> SM </td>\n",
    "<td> frequência final semestral (15 e final do mês) </td>\n",
    "</tr>\n",
    "<tr class = \"row-even\"> <td> BM </td>\n",
    "<td> frequência final do mês útil </td>\n",
    "</tr>\n",
    "<tr class = \"row-odd\"> <td> CBM </td>\n",
    "<td> frequência de final de mês comercial personalizada </td>\n",
    "</tr>\n",
    "<tr class = \"row-even\"> <td> MS </td>\n",
    "<td> frequência de início do mês </td>\n",
    "</tr>\n",
    "<tr class = \"row-odd\"> <td> SMS </td>\n",
    "<td> frequência de início semestral (1º e 15º) </td>\n",
    "</tr>\n",
    "<tr class = \"row-even\"> <td> BMS </td>\n",
    "<td> frequência de início do mês útil </td>\n",
    "</tr>\n",
    "<tr class = \"row-odd\"> <td> CBMS </td>\n",
    "<td> frequência de início do mês útil personalizado </td>\n",
    "</tr>\n",
    "<tr class = \"row-even\"> <td> Q </td>\n",
    "<td> frequência de final de trimestre </td>\n",
    "</tr>\n",
    "<tr class = \"row-odd\"> <td> BQ </td>\n",
    "<td> frequência de final de trimestre de negócios </td>\n",
    "</tr>\n",
    "<tr class = \"row-even\"> <td> QS </td>\n",
    "<td> frequência de início do trimestre </td>\n",
    "</tr>\n",
    "<tr class = \"row-odd\"> <td> BQS </td>\n",
    "<td> frequência de início do trimestre de negócios </td>\n",
    "</tr>\n",
    "<tr class = \"row-even\"> <td> A, Y </td>\n",
    "<td> frequência de final de ano </td>\n",
    "</tr>\n",
    "<tr class = \"row-odd\"> <td> BA, POR </td>\n",
    "<td> frequência de fim de ano comercial </td>\n",
    "</tr>\n",
    "<tr class = \"row-even\"> <td> AS, YS </td>\n",
    "<td> frequência de início do ano </td>\n",
    "</tr>\n",
    "<tr class = \"row-odd\"> <td> BAS, BYS </td>\n",
    "<td> frequência de início do ano comercial </td>\n",
    "</tr>\n",
    "<tr class = \"row-even\"> <td> BH </td>\n",
    "<td> frequência do horário comercial </td>\n",
    "</tr>\n",
    "<tr class = \"row-odd\"> <td> H </td>\n",
    "<td> frequência horária </td>\n",
    "</tr>\n",
    "<tr class = \"row-even\"> <td> T, mín. </td>\n",
    "<td> frequência minuciosa </td>\n",
    "</tr>\n",
    "<tr class = \"row-odd\"> <td> S </td>\n",
    "<td> segunda frequência </td>\n",
    "</tr>\n",
    "<tr class = \"row-even\"> <td> L, ms </td>\n",
    "<td> milissegundos </td>\n",
    "</tr>\n",
    "<tr class = \"row-odd\"> <td> U, us </td>\n",
    "<td> microssegundos </td>\n",
    "</tr>\n",
    "<tr class = \"row-even\"> <td> N </td>\n",
    "<td> nanossegundos </td>\n",
    "</tr>\n",
    "</tbody>\n",
    "</table>"
   ]
  }
 ],
 "metadata": {
  "kernelspec": {
   "display_name": "Python 3",
   "language": "python",
   "name": "python3"
  },
  "language_info": {
   "codemirror_mode": {
    "name": "ipython",
    "version": 3
   },
   "file_extension": ".py",
   "mimetype": "text/x-python",
   "name": "python",
   "nbconvert_exporter": "python",
   "pygments_lexer": "ipython3",
   "version": "3.6.5"
  }
 },
 "nbformat": 4,
 "nbformat_minor": 2
}
